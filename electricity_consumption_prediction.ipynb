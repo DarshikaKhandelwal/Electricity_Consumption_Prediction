{
  "nbformat": 4,
  "nbformat_minor": 0,
  "metadata": {
    "colab": {
      "provenance": [],
      "authorship_tag": "ABX9TyPtsbiZt5ecUYWuidiVY+8P",
      "include_colab_link": true
    },
    "kernelspec": {
      "name": "python3",
      "display_name": "Python 3"
    },
    "language_info": {
      "name": "python"
    }
  },
  "cells": [
    {
      "cell_type": "markdown",
      "metadata": {
        "id": "view-in-github",
        "colab_type": "text"
      },
      "source": [
        "<a href=\"https://colab.research.google.com/github/DarshikaKhandelwal/wattwise.github.io/blob/master/electricity_consumption_prediction.ipynb\" target=\"_parent\"><img src=\"https://colab.research.google.com/assets/colab-badge.svg\" alt=\"Open In Colab\"/></a>"
      ]
    },
    {
      "cell_type": "code",
      "source": [
        "import pandas as pd\n",
        "import datetime as dt\n",
        "import numpy as np\n",
        "import datetime as dt\n",
        "import matplotlib.pyplot as plt\n",
        "import seaborn as sns\n",
        "from  scipy.stats import skew, kurtosis, shapiro"
      ],
      "metadata": {
        "id": "zVN-33dvtMKn"
      },
      "execution_count": 1,
      "outputs": []
    },
    {
      "cell_type": "code",
      "source": [
        "df = pd.read_csv(\"/content/psp-peak.csv\")\n",
        "df.head()"
      ],
      "metadata": {
        "colab": {
          "base_uri": "https://localhost:8080/",
          "height": 206
        },
        "id": "VmEQYiIotbpr",
        "outputId": "718ac650-1eb3-486a-eb89-f106141f12e6"
      },
      "execution_count": 45,
      "outputs": [
        {
          "output_type": "execute_result",
          "data": {
            "text/plain": [
              "    Month  Peak Demand  Temperature\n",
              "0  Jan-22         7164         13.7\n",
              "1  Feb-22         7208         17.8\n",
              "2  Mar-22         7792         26.8\n",
              "3  Apr-22         9320         32.4\n",
              "4  May-22        10052         33.6"
            ],
            "text/html": [
              "\n",
              "  <div id=\"df-8b20ba67-3dfc-47ae-9111-9e2cb86d64a7\" class=\"colab-df-container\">\n",
              "    <div>\n",
              "<style scoped>\n",
              "    .dataframe tbody tr th:only-of-type {\n",
              "        vertical-align: middle;\n",
              "    }\n",
              "\n",
              "    .dataframe tbody tr th {\n",
              "        vertical-align: top;\n",
              "    }\n",
              "\n",
              "    .dataframe thead th {\n",
              "        text-align: right;\n",
              "    }\n",
              "</style>\n",
              "<table border=\"1\" class=\"dataframe\">\n",
              "  <thead>\n",
              "    <tr style=\"text-align: right;\">\n",
              "      <th></th>\n",
              "      <th>Month</th>\n",
              "      <th>Peak Demand</th>\n",
              "      <th>Temperature</th>\n",
              "    </tr>\n",
              "  </thead>\n",
              "  <tbody>\n",
              "    <tr>\n",
              "      <th>0</th>\n",
              "      <td>Jan-22</td>\n",
              "      <td>7164</td>\n",
              "      <td>13.7</td>\n",
              "    </tr>\n",
              "    <tr>\n",
              "      <th>1</th>\n",
              "      <td>Feb-22</td>\n",
              "      <td>7208</td>\n",
              "      <td>17.8</td>\n",
              "    </tr>\n",
              "    <tr>\n",
              "      <th>2</th>\n",
              "      <td>Mar-22</td>\n",
              "      <td>7792</td>\n",
              "      <td>26.8</td>\n",
              "    </tr>\n",
              "    <tr>\n",
              "      <th>3</th>\n",
              "      <td>Apr-22</td>\n",
              "      <td>9320</td>\n",
              "      <td>32.4</td>\n",
              "    </tr>\n",
              "    <tr>\n",
              "      <th>4</th>\n",
              "      <td>May-22</td>\n",
              "      <td>10052</td>\n",
              "      <td>33.6</td>\n",
              "    </tr>\n",
              "  </tbody>\n",
              "</table>\n",
              "</div>\n",
              "    <div class=\"colab-df-buttons\">\n",
              "\n",
              "  <div class=\"colab-df-container\">\n",
              "    <button class=\"colab-df-convert\" onclick=\"convertToInteractive('df-8b20ba67-3dfc-47ae-9111-9e2cb86d64a7')\"\n",
              "            title=\"Convert this dataframe to an interactive table.\"\n",
              "            style=\"display:none;\">\n",
              "\n",
              "  <svg xmlns=\"http://www.w3.org/2000/svg\" height=\"24px\" viewBox=\"0 -960 960 960\">\n",
              "    <path d=\"M120-120v-720h720v720H120Zm60-500h600v-160H180v160Zm220 220h160v-160H400v160Zm0 220h160v-160H400v160ZM180-400h160v-160H180v160Zm440 0h160v-160H620v160ZM180-180h160v-160H180v160Zm440 0h160v-160H620v160Z\"/>\n",
              "  </svg>\n",
              "    </button>\n",
              "\n",
              "  <style>\n",
              "    .colab-df-container {\n",
              "      display:flex;\n",
              "      gap: 12px;\n",
              "    }\n",
              "\n",
              "    .colab-df-convert {\n",
              "      background-color: #E8F0FE;\n",
              "      border: none;\n",
              "      border-radius: 50%;\n",
              "      cursor: pointer;\n",
              "      display: none;\n",
              "      fill: #1967D2;\n",
              "      height: 32px;\n",
              "      padding: 0 0 0 0;\n",
              "      width: 32px;\n",
              "    }\n",
              "\n",
              "    .colab-df-convert:hover {\n",
              "      background-color: #E2EBFA;\n",
              "      box-shadow: 0px 1px 2px rgba(60, 64, 67, 0.3), 0px 1px 3px 1px rgba(60, 64, 67, 0.15);\n",
              "      fill: #174EA6;\n",
              "    }\n",
              "\n",
              "    .colab-df-buttons div {\n",
              "      margin-bottom: 4px;\n",
              "    }\n",
              "\n",
              "    [theme=dark] .colab-df-convert {\n",
              "      background-color: #3B4455;\n",
              "      fill: #D2E3FC;\n",
              "    }\n",
              "\n",
              "    [theme=dark] .colab-df-convert:hover {\n",
              "      background-color: #434B5C;\n",
              "      box-shadow: 0px 1px 3px 1px rgba(0, 0, 0, 0.15);\n",
              "      filter: drop-shadow(0px 1px 2px rgba(0, 0, 0, 0.3));\n",
              "      fill: #FFFFFF;\n",
              "    }\n",
              "  </style>\n",
              "\n",
              "    <script>\n",
              "      const buttonEl =\n",
              "        document.querySelector('#df-8b20ba67-3dfc-47ae-9111-9e2cb86d64a7 button.colab-df-convert');\n",
              "      buttonEl.style.display =\n",
              "        google.colab.kernel.accessAllowed ? 'block' : 'none';\n",
              "\n",
              "      async function convertToInteractive(key) {\n",
              "        const element = document.querySelector('#df-8b20ba67-3dfc-47ae-9111-9e2cb86d64a7');\n",
              "        const dataTable =\n",
              "          await google.colab.kernel.invokeFunction('convertToInteractive',\n",
              "                                                    [key], {});\n",
              "        if (!dataTable) return;\n",
              "\n",
              "        const docLinkHtml = 'Like what you see? Visit the ' +\n",
              "          '<a target=\"_blank\" href=https://colab.research.google.com/notebooks/data_table.ipynb>data table notebook</a>'\n",
              "          + ' to learn more about interactive tables.';\n",
              "        element.innerHTML = '';\n",
              "        dataTable['output_type'] = 'display_data';\n",
              "        await google.colab.output.renderOutput(dataTable, element);\n",
              "        const docLink = document.createElement('div');\n",
              "        docLink.innerHTML = docLinkHtml;\n",
              "        element.appendChild(docLink);\n",
              "      }\n",
              "    </script>\n",
              "  </div>\n",
              "\n",
              "\n",
              "<div id=\"df-88bd7910-07fa-40c7-8896-ed389ef7d12d\">\n",
              "  <button class=\"colab-df-quickchart\" onclick=\"quickchart('df-88bd7910-07fa-40c7-8896-ed389ef7d12d')\"\n",
              "            title=\"Suggest charts\"\n",
              "            style=\"display:none;\">\n",
              "\n",
              "<svg xmlns=\"http://www.w3.org/2000/svg\" height=\"24px\"viewBox=\"0 0 24 24\"\n",
              "     width=\"24px\">\n",
              "    <g>\n",
              "        <path d=\"M19 3H5c-1.1 0-2 .9-2 2v14c0 1.1.9 2 2 2h14c1.1 0 2-.9 2-2V5c0-1.1-.9-2-2-2zM9 17H7v-7h2v7zm4 0h-2V7h2v10zm4 0h-2v-4h2v4z\"/>\n",
              "    </g>\n",
              "</svg>\n",
              "  </button>\n",
              "\n",
              "<style>\n",
              "  .colab-df-quickchart {\n",
              "      --bg-color: #E8F0FE;\n",
              "      --fill-color: #1967D2;\n",
              "      --hover-bg-color: #E2EBFA;\n",
              "      --hover-fill-color: #174EA6;\n",
              "      --disabled-fill-color: #AAA;\n",
              "      --disabled-bg-color: #DDD;\n",
              "  }\n",
              "\n",
              "  [theme=dark] .colab-df-quickchart {\n",
              "      --bg-color: #3B4455;\n",
              "      --fill-color: #D2E3FC;\n",
              "      --hover-bg-color: #434B5C;\n",
              "      --hover-fill-color: #FFFFFF;\n",
              "      --disabled-bg-color: #3B4455;\n",
              "      --disabled-fill-color: #666;\n",
              "  }\n",
              "\n",
              "  .colab-df-quickchart {\n",
              "    background-color: var(--bg-color);\n",
              "    border: none;\n",
              "    border-radius: 50%;\n",
              "    cursor: pointer;\n",
              "    display: none;\n",
              "    fill: var(--fill-color);\n",
              "    height: 32px;\n",
              "    padding: 0;\n",
              "    width: 32px;\n",
              "  }\n",
              "\n",
              "  .colab-df-quickchart:hover {\n",
              "    background-color: var(--hover-bg-color);\n",
              "    box-shadow: 0 1px 2px rgba(60, 64, 67, 0.3), 0 1px 3px 1px rgba(60, 64, 67, 0.15);\n",
              "    fill: var(--button-hover-fill-color);\n",
              "  }\n",
              "\n",
              "  .colab-df-quickchart-complete:disabled,\n",
              "  .colab-df-quickchart-complete:disabled:hover {\n",
              "    background-color: var(--disabled-bg-color);\n",
              "    fill: var(--disabled-fill-color);\n",
              "    box-shadow: none;\n",
              "  }\n",
              "\n",
              "  .colab-df-spinner {\n",
              "    border: 2px solid var(--fill-color);\n",
              "    border-color: transparent;\n",
              "    border-bottom-color: var(--fill-color);\n",
              "    animation:\n",
              "      spin 1s steps(1) infinite;\n",
              "  }\n",
              "\n",
              "  @keyframes spin {\n",
              "    0% {\n",
              "      border-color: transparent;\n",
              "      border-bottom-color: var(--fill-color);\n",
              "      border-left-color: var(--fill-color);\n",
              "    }\n",
              "    20% {\n",
              "      border-color: transparent;\n",
              "      border-left-color: var(--fill-color);\n",
              "      border-top-color: var(--fill-color);\n",
              "    }\n",
              "    30% {\n",
              "      border-color: transparent;\n",
              "      border-left-color: var(--fill-color);\n",
              "      border-top-color: var(--fill-color);\n",
              "      border-right-color: var(--fill-color);\n",
              "    }\n",
              "    40% {\n",
              "      border-color: transparent;\n",
              "      border-right-color: var(--fill-color);\n",
              "      border-top-color: var(--fill-color);\n",
              "    }\n",
              "    60% {\n",
              "      border-color: transparent;\n",
              "      border-right-color: var(--fill-color);\n",
              "    }\n",
              "    80% {\n",
              "      border-color: transparent;\n",
              "      border-right-color: var(--fill-color);\n",
              "      border-bottom-color: var(--fill-color);\n",
              "    }\n",
              "    90% {\n",
              "      border-color: transparent;\n",
              "      border-bottom-color: var(--fill-color);\n",
              "    }\n",
              "  }\n",
              "</style>\n",
              "\n",
              "  <script>\n",
              "    async function quickchart(key) {\n",
              "      const quickchartButtonEl =\n",
              "        document.querySelector('#' + key + ' button');\n",
              "      quickchartButtonEl.disabled = true;  // To prevent multiple clicks.\n",
              "      quickchartButtonEl.classList.add('colab-df-spinner');\n",
              "      try {\n",
              "        const charts = await google.colab.kernel.invokeFunction(\n",
              "            'suggestCharts', [key], {});\n",
              "      } catch (error) {\n",
              "        console.error('Error during call to suggestCharts:', error);\n",
              "      }\n",
              "      quickchartButtonEl.classList.remove('colab-df-spinner');\n",
              "      quickchartButtonEl.classList.add('colab-df-quickchart-complete');\n",
              "    }\n",
              "    (() => {\n",
              "      let quickchartButtonEl =\n",
              "        document.querySelector('#df-88bd7910-07fa-40c7-8896-ed389ef7d12d button');\n",
              "      quickchartButtonEl.style.display =\n",
              "        google.colab.kernel.accessAllowed ? 'block' : 'none';\n",
              "    })();\n",
              "  </script>\n",
              "</div>\n",
              "    </div>\n",
              "  </div>\n"
            ]
          },
          "metadata": {},
          "execution_count": 45
        }
      ]
    },
    {
      "cell_type": "code",
      "source": [
        "df.set_index('Month', inplace = True)"
      ],
      "metadata": {
        "id": "naWLFy1a3erE"
      },
      "execution_count": 46,
      "outputs": []
    },
    {
      "cell_type": "code",
      "source": [
        "df.index"
      ],
      "metadata": {
        "colab": {
          "base_uri": "https://localhost:8080/"
        },
        "id": "uceMl3WTs420",
        "outputId": "effd1657-4f23-4267-95eb-66a04e15ed90"
      },
      "execution_count": 47,
      "outputs": [
        {
          "output_type": "execute_result",
          "data": {
            "text/plain": [
              "Index(['Jan-22', 'Feb-22', 'Mar-22', 'Apr-22', 'May-22', 'Jun-22', 'Jul-22',\n",
              "       'Aug-22', 'Sep-22', 'Oct-22', 'Nov-22', 'Dec-22', 'Jan-23', 'Feb-23',\n",
              "       'Mar-23', 'Apr-23', 'May-23', 'Jun-23', 'Jul-23'],\n",
              "      dtype='object', name='Month')"
            ]
          },
          "metadata": {},
          "execution_count": 47
        }
      ]
    },
    {
      "cell_type": "code",
      "source": [
        "df = df.rename(columns={'Peak Demand': 'Peak_Demand'})"
      ],
      "metadata": {
        "id": "47YMIbZUEpsJ"
      },
      "execution_count": 48,
      "outputs": []
    },
    {
      "cell_type": "code",
      "source": [
        "df.index = pd.to_datetime(df.index, format='%b-%y')"
      ],
      "metadata": {
        "id": "w3rHd6ios0WG"
      },
      "execution_count": 49,
      "outputs": []
    },
    {
      "cell_type": "code",
      "source": [
        "df.index = pd.to_datetime(df.index.strftime('%m-%Y'))"
      ],
      "metadata": {
        "id": "qjrxdmnNs26i"
      },
      "execution_count": 50,
      "outputs": []
    },
    {
      "cell_type": "code",
      "source": [
        "df.plot(style = \"--\", figsize = (15, 5))"
      ],
      "metadata": {
        "colab": {
          "base_uri": "https://localhost:8080/",
          "height": 498
        },
        "id": "Krpd0oUZ463S",
        "outputId": "27318671-1ac6-48c3-f080-2ec6a661ad60"
      },
      "execution_count": 51,
      "outputs": [
        {
          "output_type": "execute_result",
          "data": {
            "text/plain": [
              "<Axes: xlabel='Month'>"
            ]
          },
          "metadata": {},
          "execution_count": 51
        },
        {
          "output_type": "display_data",
          "data": {
            "text/plain": [
              "<Figure size 1500x500 with 1 Axes>"
            ],
            "image/png": "[encoded data removed]"
          },
          "metadata": {}
        }
      ]
    },
    {
      "cell_type": "markdown",
      "source": [
        "###Train test Split\n"
      ],
      "metadata": {
        "id": "xnBxBn7c64V7"
      }
    },
    {
      "cell_type": "code",
      "source": [
        "cutoff_date = pd.to_datetime('09-01-2022')"
      ],
      "metadata": {
        "id": "7LzSLnXUvweD"
      },
      "execution_count": 54,
      "outputs": []
    },
    {
      "cell_type": "code",
      "source": [
        "train = df.loc[df.index <= cutoff_date]\n",
        "test = df.loc[df.index > '09-2022']\n",
        "\n",
        "fig, ax = plt.subplots(figsize = (15, 5))\n",
        "train.plot(ax = ax)\n",
        "test.plot(ax = ax)\n",
        "ax.axvline('09-2022', color = 'black', ls = '--')\n",
        "ax.legend(['Training Set', 'Testing Set'])\n",
        "plt.show()"
      ],
      "metadata": {
        "colab": {
          "base_uri": "https://localhost:8080/",
          "height": 481
        },
        "id": "gxCYHMm06750",
        "outputId": "b5012a8a-4326-40c8-dc9b-9e35990f63cc"
      },
      "execution_count": 56,
      "outputs": [
        {
          "output_type": "display_data",
          "data": {
            "text/plain": [
              "<Figure size 1500x500 with 1 Axes>"
            ],
            "image/png": "[encoded data removed]"
          },
          "metadata": {}
        }
      ]
    },
    {
      "cell_type": "code",
      "source": [
        "def create_features(df):\n",
        "  df = df.copy()\n",
        "  df['month'] = df.index.month\n",
        "  df['year'] = df.index.year\n",
        "  return df"
      ],
      "metadata": {
        "id": "NqFQJj6E86zU"
      },
      "execution_count": 57,
      "outputs": []
    },
    {
      "cell_type": "code",
      "source": [
        "df = create_features(df)"
      ],
      "metadata": {
        "id": "MccsHtK-Ahhl"
      },
      "execution_count": 58,
      "outputs": []
    },
    {
      "cell_type": "code",
      "source": [
        "df.head()"
      ],
      "metadata": {
        "colab": {
          "base_uri": "https://localhost:8080/",
          "height": 238
        },
        "id": "jGsSJhg3QJ41",
        "outputId": "f03675be-c7ab-4c15-ecb2-a49846241f42"
      },
      "execution_count": 59,
      "outputs": [
        {
          "output_type": "execute_result",
          "data": {
            "text/plain": [
              "            Peak_Demand  Temperature  month  year\n",
              "Month                                            \n",
              "2022-01-01         7164         13.7      1  2022\n",
              "2022-02-01         7208         17.8      2  2022\n",
              "2022-03-01         7792         26.8      3  2022\n",
              "2022-04-01         9320         32.4      4  2022\n",
              "2022-05-01        10052         33.6      5  2022"
            ],
            "text/html": [
              "\n",
              "  <div id=\"df-a2737647-a0b0-4cea-a22e-8fda8a117fd7\" class=\"colab-df-container\">\n",
              "    <div>\n",
              "<style scoped>\n",
              "    .dataframe tbody tr th:only-of-type {\n",
              "        vertical-align: middle;\n",
              "    }\n",
              "\n",
              "    .dataframe tbody tr th {\n",
              "        vertical-align: top;\n",
              "    }\n",
              "\n",
              "    .dataframe thead th {\n",
              "        text-align: right;\n",
              "    }\n",
              "</style>\n",
              "<table border=\"1\" class=\"dataframe\">\n",
              "  <thead>\n",
              "    <tr style=\"text-align: right;\">\n",
              "      <th></th>\n",
              "      <th>Peak_Demand</th>\n",
              "      <th>Temperature</th>\n",
              "      <th>month</th>\n",
              "      <th>year</th>\n",
              "    </tr>\n",
              "    <tr>\n",
              "      <th>Month</th>\n",
              "      <th></th>\n",
              "      <th></th>\n",
              "      <th></th>\n",
              "      <th></th>\n",
              "    </tr>\n",
              "  </thead>\n",
              "  <tbody>\n",
              "    <tr>\n",
              "      <th>2022-01-01</th>\n",
              "      <td>7164</td>\n",
              "      <td>13.7</td>\n",
              "      <td>1</td>\n",
              "      <td>2022</td>\n",
              "    </tr>\n",
              "    <tr>\n",
              "      <th>2022-02-01</th>\n",
              "      <td>7208</td>\n",
              "      <td>17.8</td>\n",
              "      <td>2</td>\n",
              "      <td>2022</td>\n",
              "    </tr>\n",
              "    <tr>\n",
              "      <th>2022-03-01</th>\n",
              "      <td>7792</td>\n",
              "      <td>26.8</td>\n",
              "      <td>3</td>\n",
              "      <td>2022</td>\n",
              "    </tr>\n",
              "    <tr>\n",
              "      <th>2022-04-01</th>\n",
              "      <td>9320</td>\n",
              "      <td>32.4</td>\n",
              "      <td>4</td>\n",
              "      <td>2022</td>\n",
              "    </tr>\n",
              "    <tr>\n",
              "      <th>2022-05-01</th>\n",
              "      <td>10052</td>\n",
              "      <td>33.6</td>\n",
              "      <td>5</td>\n",
              "      <td>2022</td>\n",
              "    </tr>\n",
              "  </tbody>\n",
              "</table>\n",
              "</div>\n",
              "    <div class=\"colab-df-buttons\">\n",
              "\n",
              "  <div class=\"colab-df-container\">\n",
              "    <button class=\"colab-df-convert\" onclick=\"convertToInteractive('df-a2737647-a0b0-4cea-a22e-8fda8a117fd7')\"\n",
              "            title=\"Convert this dataframe to an interactive table.\"\n",
              "            style=\"display:none;\">\n",
              "\n",
              "  <svg xmlns=\"http://www.w3.org/2000/svg\" height=\"24px\" viewBox=\"0 -960 960 960\">\n",
              "    <path d=\"M120-120v-720h720v720H120Zm60-500h600v-160H180v160Zm220 220h160v-160H400v160Zm0 220h160v-160H400v160ZM180-400h160v-160H180v160Zm440 0h160v-160H620v160ZM180-180h160v-160H180v160Zm440 0h160v-160H620v160Z\"/>\n",
              "  </svg>\n",
              "    </button>\n",
              "\n",
              "  <style>\n",
              "    .colab-df-container {\n",
              "      display:flex;\n",
              "      gap: 12px;\n",
              "    }\n",
              "\n",
              "    .colab-df-convert {\n",
              "      background-color: #E8F0FE;\n",
              "      border: none;\n",
              "      border-radius: 50%;\n",
              "      cursor: pointer;\n",
              "      display: none;\n",
              "      fill: #1967D2;\n",
              "      height: 32px;\n",
              "      padding: 0 0 0 0;\n",
              "      width: 32px;\n",
              "    }\n",
              "\n",
              "    .colab-df-convert:hover {\n",
              "      background-color: #E2EBFA;\n",
              "      box-shadow: 0px 1px 2px rgba(60, 64, 67, 0.3), 0px 1px 3px 1px rgba(60, 64, 67, 0.15);\n",
              "      fill: #174EA6;\n",
              "    }\n",
              "\n",
              "    .colab-df-buttons div {\n",
              "      margin-bottom: 4px;\n",
              "    }\n",
              "\n",
              "    [theme=dark] .colab-df-convert {\n",
              "      background-color: #3B4455;\n",
              "      fill: #D2E3FC;\n",
              "    }\n",
              "\n",
              "    [theme=dark] .colab-df-convert:hover {\n",
              "      background-color: #434B5C;\n",
              "      box-shadow: 0px 1px 3px 1px rgba(0, 0, 0, 0.15);\n",
              "      filter: drop-shadow(0px 1px 2px rgba(0, 0, 0, 0.3));\n",
              "      fill: #FFFFFF;\n",
              "    }\n",
              "  </style>\n",
              "\n",
              "    <script>\n",
              "      const buttonEl =\n",
              "        document.querySelector('#df-a2737647-a0b0-4cea-a22e-8fda8a117fd7 button.colab-df-convert');\n",
              "      buttonEl.style.display =\n",
              "        google.colab.kernel.accessAllowed ? 'block' : 'none';\n",
              "\n",
              "      async function convertToInteractive(key) {\n",
              "        const element = document.querySelector('#df-a2737647-a0b0-4cea-a22e-8fda8a117fd7');\n",
              "        const dataTable =\n",
              "          await google.colab.kernel.invokeFunction('convertToInteractive',\n",
              "                                                    [key], {});\n",
              "        if (!dataTable) return;\n",
              "\n",
              "        const docLinkHtml = 'Like what you see? Visit the ' +\n",
              "          '<a target=\"_blank\" href=https://colab.research.google.com/notebooks/data_table.ipynb>data table notebook</a>'\n",
              "          + ' to learn more about interactive tables.';\n",
              "        element.innerHTML = '';\n",
              "        dataTable['output_type'] = 'display_data';\n",
              "        await google.colab.output.renderOutput(dataTable, element);\n",
              "        const docLink = document.createElement('div');\n",
              "        docLink.innerHTML = docLinkHtml;\n",
              "        element.appendChild(docLink);\n",
              "      }\n",
              "    </script>\n",
              "  </div>\n",
              "\n",
              "\n",
              "<div id=\"df-02c48899-5155-402b-a465-8c400872a7b5\">\n",
              "  <button class=\"colab-df-quickchart\" onclick=\"quickchart('df-02c48899-5155-402b-a465-8c400872a7b5')\"\n",
              "            title=\"Suggest charts\"\n",
              "            style=\"display:none;\">\n",
              "\n",
              "<svg xmlns=\"http://www.w3.org/2000/svg\" height=\"24px\"viewBox=\"0 0 24 24\"\n",
              "     width=\"24px\">\n",
              "    <g>\n",
              "        <path d=\"M19 3H5c-1.1 0-2 .9-2 2v14c0 1.1.9 2 2 2h14c1.1 0 2-.9 2-2V5c0-1.1-.9-2-2-2zM9 17H7v-7h2v7zm4 0h-2V7h2v10zm4 0h-2v-4h2v4z\"/>\n",
              "    </g>\n",
              "</svg>\n",
              "  </button>\n",
              "\n",
              "<style>\n",
              "  .colab-df-quickchart {\n",
              "      --bg-color: #E8F0FE;\n",
              "      --fill-color: #1967D2;\n",
              "      --hover-bg-color: #E2EBFA;\n",
              "      --hover-fill-color: #174EA6;\n",
              "      --disabled-fill-color: #AAA;\n",
              "      --disabled-bg-color: #DDD;\n",
              "  }\n",
              "\n",
              "  [theme=dark] .colab-df-quickchart {\n",
              "      --bg-color: #3B4455;\n",
              "      --fill-color: #D2E3FC;\n",
              "      --hover-bg-color: #434B5C;\n",
              "      --hover-fill-color: #FFFFFF;\n",
              "      --disabled-bg-color: #3B4455;\n",
              "      --disabled-fill-color: #666;\n",
              "  }\n",
              "\n",
              "  .colab-df-quickchart {\n",
              "    background-color: var(--bg-color);\n",
              "    border: none;\n",
              "    border-radius: 50%;\n",
              "    cursor: pointer;\n",
              "    display: none;\n",
              "    fill: var(--fill-color);\n",
              "    height: 32px;\n",
              "    padding: 0;\n",
              "    width: 32px;\n",
              "  }\n",
              "\n",
              "  .colab-df-quickchart:hover {\n",
              "    background-color: var(--hover-bg-color);\n",
              "    box-shadow: 0 1px 2px rgba(60, 64, 67, 0.3), 0 1px 3px 1px rgba(60, 64, 67, 0.15);\n",
              "    fill: var(--button-hover-fill-color);\n",
              "  }\n",
              "\n",
              "  .colab-df-quickchart-complete:disabled,\n",
              "  .colab-df-quickchart-complete:disabled:hover {\n",
              "    background-color: var(--disabled-bg-color);\n",
              "    fill: var(--disabled-fill-color);\n",
              "    box-shadow: none;\n",
              "  }\n",
              "\n",
              "  .colab-df-spinner {\n",
              "    border: 2px solid var(--fill-color);\n",
              "    border-color: transparent;\n",
              "    border-bottom-color: var(--fill-color);\n",
              "    animation:\n",
              "      spin 1s steps(1) infinite;\n",
              "  }\n",
              "\n",
              "  @keyframes spin {\n",
              "    0% {\n",
              "      border-color: transparent;\n",
              "      border-bottom-color: var(--fill-color);\n",
              "      border-left-color: var(--fill-color);\n",
              "    }\n",
              "    20% {\n",
              "      border-color: transparent;\n",
              "      border-left-color: var(--fill-color);\n",
              "      border-top-color: var(--fill-color);\n",
              "    }\n",
              "    30% {\n",
              "      border-color: transparent;\n",
              "      border-left-color: var(--fill-color);\n",
              "      border-top-color: var(--fill-color);\n",
              "      border-right-color: var(--fill-color);\n",
              "    }\n",
              "    40% {\n",
              "      border-color: transparent;\n",
              "      border-right-color: var(--fill-color);\n",
              "      border-top-color: var(--fill-color);\n",
              "    }\n",
              "    60% {\n",
              "      border-color: transparent;\n",
              "      border-right-color: var(--fill-color);\n",
              "    }\n",
              "    80% {\n",
              "      border-color: transparent;\n",
              "      border-right-color: var(--fill-color);\n",
              "      border-bottom-color: var(--fill-color);\n",
              "    }\n",
              "    90% {\n",
              "      border-color: transparent;\n",
              "      border-bottom-color: var(--fill-color);\n",
              "    }\n",
              "  }\n",
              "</style>\n",
              "\n",
              "  <script>\n",
              "    async function quickchart(key) {\n",
              "      const quickchartButtonEl =\n",
              "        document.querySelector('#' + key + ' button');\n",
              "      quickchartButtonEl.disabled = true;  // To prevent multiple clicks.\n",
              "      quickchartButtonEl.classList.add('colab-df-spinner');\n",
              "      try {\n",
              "        const charts = await google.colab.kernel.invokeFunction(\n",
              "            'suggestCharts', [key], {});\n",
              "      } catch (error) {\n",
              "        console.error('Error during call to suggestCharts:', error);\n",
              "      }\n",
              "      quickchartButtonEl.classList.remove('colab-df-spinner');\n",
              "      quickchartButtonEl.classList.add('colab-df-quickchart-complete');\n",
              "    }\n",
              "    (() => {\n",
              "      let quickchartButtonEl =\n",
              "        document.querySelector('#df-02c48899-5155-402b-a465-8c400872a7b5 button');\n",
              "      quickchartButtonEl.style.display =\n",
              "        google.colab.kernel.accessAllowed ? 'block' : 'none';\n",
              "    })();\n",
              "  </script>\n",
              "</div>\n",
              "    </div>\n",
              "  </div>\n"
            ]
          },
          "metadata": {},
          "execution_count": 59
        }
      ]
    },
    {
      "cell_type": "code",
      "source": [
        "df.columns"
      ],
      "metadata": {
        "colab": {
          "base_uri": "https://localhost:8080/"
        },
        "id": "fI719vglAt3l",
        "outputId": "b07d5804-fca6-4b8f-ef7b-c60f5c627e3d"
      },
      "execution_count": 60,
      "outputs": [
        {
          "output_type": "execute_result",
          "data": {
            "text/plain": [
              "Index(['Peak_Demand', 'Temperature', 'month', 'year'], dtype='object')"
            ]
          },
          "metadata": {},
          "execution_count": 60
        }
      ]
    },
    {
      "cell_type": "code",
      "source": [
        "train = create_features(train)\n",
        "test = create_features(test)\n",
        "\n",
        "X = df[['month', 'year', 'Temperature']]  # Feature matrix\n",
        "y = df['Peak_Demand']\n",
        "FEATURES = ['month', 'year', 'Temperature']\n",
        "TARGET = 'Peak_Demand'"
      ],
      "metadata": {
        "id": "i2Nn3Bps-RH7"
      },
      "execution_count": 79,
      "outputs": []
    },
    {
      "cell_type": "code",
      "source": [
        "X_train = train[FEATURES]\n",
        "X_test = test[FEATURES]\n",
        "\n",
        "y_train = train[TARGET]\n",
        "y_test = test[TARGET]"
      ],
      "metadata": {
        "id": "Nm_ELX3QA3iw"
      },
      "execution_count": 80,
      "outputs": []
    },
    {
      "cell_type": "code",
      "source": [
        "import xgboost as xgb\n",
        "from sklearn.metrics import mean_squared_error\n",
        "model = xgb.XGBRegressor(n_estimators = 1000, early_stopping_rounds = 50, learning_rate = 0.01)\n",
        "model.fit(X_train, y_train,\n",
        "           eval_set=[(X_train, y_train),(X_test, y_test)],\n",
        "           verbose = True)"
      ],
      "metadata": {
        "colab": {
          "base_uri": "https://localhost:8080/",
          "height": 1000
        },
        "id": "K2vb4mmp9SXL",
        "outputId": "b3dd7579-8fa5-4fa8-a27a-c6bab3f8e79d"
      },
      "execution_count": 81,
      "outputs": [
        {
          "output_type": "stream",
          "name": "stdout",
          "text": [
            "[0]\tvalidation_0-rmse:2152.19542\tvalidation_1-rmse:1772.99971\n",
            "[1]\tvalidation_0-rmse:2135.87468\tvalidation_1-rmse:1768.70595\n",
            "[2]\tvalidation_0-rmse:2119.68260\tvalidation_1-rmse:1764.58647\n",
            "[3]\tvalidation_0-rmse:2103.61747\tvalidation_1-rmse:1760.63846\n",
            "[4]\tvalidation_0-rmse:2087.67926\tvalidation_1-rmse:1756.85959\n",
            "[5]\tvalidation_0-rmse:2071.86632\tvalidation_1-rmse:1753.24706\n",
            "[6]\tvalidation_0-rmse:2056.17779\tvalidation_1-rmse:1749.79837\n",
            "[7]\tvalidation_0-rmse:2040.61190\tvalidation_1-rmse:1746.51068\n",
            "[8]\tvalidation_0-rmse:2025.16872\tvalidation_1-rmse:1743.38162\n",
            "[9]\tvalidation_0-rmse:2009.84740\tvalidation_1-rmse:1740.40864\n",
            "[10]\tvalidation_0-rmse:1994.64658\tvalidation_1-rmse:1737.58879\n",
            "[11]\tvalidation_0-rmse:1979.56544\tvalidation_1-rmse:1734.91990\n",
            "[12]\tvalidation_0-rmse:1964.60324\tvalidation_1-rmse:1732.39900\n",
            "[13]\tvalidation_0-rmse:1949.75897\tvalidation_1-rmse:1730.02396\n",
            "[14]\tvalidation_0-rmse:1935.03141\tvalidation_1-rmse:1727.79186\n",
            "[15]\tvalidation_0-rmse:1920.42013\tvalidation_1-rmse:1725.69998\n",
            "[16]\tvalidation_0-rmse:1905.92389\tvalidation_1-rmse:1723.74593\n",
            "[17]\tvalidation_0-rmse:1891.54175\tvalidation_1-rmse:1721.92714\n",
            "[18]\tvalidation_0-rmse:1877.27295\tvalidation_1-rmse:1720.24107\n",
            "[19]\tvalidation_0-rmse:1863.11745\tvalidation_1-rmse:1718.68528\n",
            "[20]\tvalidation_0-rmse:1849.07354\tvalidation_1-rmse:1717.25711\n",
            "[21]\tvalidation_0-rmse:1835.14035\tvalidation_1-rmse:1715.95412\n",
            "[22]\tvalidation_0-rmse:1821.31708\tvalidation_1-rmse:1714.77376\n",
            "[23]\tvalidation_0-rmse:1807.60280\tvalidation_1-rmse:1713.71359\n",
            "[24]\tvalidation_0-rmse:1793.99724\tvalidation_1-rmse:1712.77093\n",
            "[25]\tvalidation_0-rmse:1780.49896\tvalidation_1-rmse:1711.94353\n",
            "[26]\tvalidation_0-rmse:1767.10718\tvalidation_1-rmse:1711.22898\n",
            "[27]\tvalidation_0-rmse:1753.82151\tvalidation_1-rmse:1710.62467\n",
            "[28]\tvalidation_0-rmse:1740.64098\tvalidation_1-rmse:1710.12862\n",
            "[29]\tvalidation_0-rmse:1727.56483\tvalidation_1-rmse:1709.73803\n",
            "[30]\tvalidation_0-rmse:1714.59176\tvalidation_1-rmse:1709.45080\n",
            "[31]\tvalidation_0-rmse:1701.72181\tvalidation_1-rmse:1709.26463\n",
            "[32]\tvalidation_0-rmse:1688.95363\tvalidation_1-rmse:1709.17696\n",
            "[33]\tvalidation_0-rmse:1676.28682\tvalidation_1-rmse:1709.18572\n",
            "[34]\tvalidation_0-rmse:1663.72015\tvalidation_1-rmse:1709.28853\n",
            "[35]\tvalidation_0-rmse:1651.25316\tvalidation_1-rmse:1709.48332\n",
            "[36]\tvalidation_0-rmse:1638.88497\tvalidation_1-rmse:1709.76794\n",
            "[37]\tvalidation_0-rmse:1626.61522\tvalidation_1-rmse:1710.13994\n",
            "[38]\tvalidation_0-rmse:1614.44258\tvalidation_1-rmse:1710.59747\n",
            "[39]\tvalidation_0-rmse:1602.36668\tvalidation_1-rmse:1711.13813\n",
            "[40]\tvalidation_0-rmse:1590.38662\tvalidation_1-rmse:1711.75990\n",
            "[41]\tvalidation_0-rmse:1578.50158\tvalidation_1-rmse:1712.46124\n",
            "[42]\tvalidation_0-rmse:1566.71156\tvalidation_1-rmse:1713.23951\n",
            "[43]\tvalidation_0-rmse:1555.01481\tvalidation_1-rmse:1714.09282\n",
            "[44]\tvalidation_0-rmse:1543.41102\tvalidation_1-rmse:1715.01941\n",
            "[45]\tvalidation_0-rmse:1531.89965\tvalidation_1-rmse:1716.01707\n",
            "[46]\tvalidation_0-rmse:1520.47992\tvalidation_1-rmse:1717.08396\n",
            "[47]\tvalidation_0-rmse:1509.15135\tvalidation_1-rmse:1718.21831\n",
            "[48]\tvalidation_0-rmse:1497.91272\tvalidation_1-rmse:1719.41815\n",
            "[49]\tvalidation_0-rmse:1486.76354\tvalidation_1-rmse:1720.68189\n",
            "[50]\tvalidation_0-rmse:1475.70350\tvalidation_1-rmse:1722.00746\n",
            "[51]\tvalidation_0-rmse:1464.73168\tvalidation_1-rmse:1723.39309\n",
            "[52]\tvalidation_0-rmse:1453.84765\tvalidation_1-rmse:1724.83728\n",
            "[53]\tvalidation_0-rmse:1443.05013\tvalidation_1-rmse:1726.33813\n",
            "[54]\tvalidation_0-rmse:1432.33913\tvalidation_1-rmse:1727.89389\n",
            "[55]\tvalidation_0-rmse:1421.71338\tvalidation_1-rmse:1729.50328\n",
            "[56]\tvalidation_0-rmse:1411.17251\tvalidation_1-rmse:1731.16443\n",
            "[57]\tvalidation_0-rmse:1400.71644\tvalidation_1-rmse:1732.87558\n",
            "[58]\tvalidation_0-rmse:1390.34393\tvalidation_1-rmse:1734.63555\n",
            "[59]\tvalidation_0-rmse:1380.05455\tvalidation_1-rmse:1736.44253\n",
            "[60]\tvalidation_0-rmse:1369.84745\tvalidation_1-rmse:1738.29500\n",
            "[61]\tvalidation_0-rmse:1359.72186\tvalidation_1-rmse:1740.19171\n",
            "[62]\tvalidation_0-rmse:1349.67768\tvalidation_1-rmse:1742.13092\n",
            "[63]\tvalidation_0-rmse:1339.71410\tvalidation_1-rmse:1744.11135\n",
            "[64]\tvalidation_0-rmse:1329.83027\tvalidation_1-rmse:1746.13166\n",
            "[65]\tvalidation_0-rmse:1320.02619\tvalidation_1-rmse:1748.19029\n",
            "[66]\tvalidation_0-rmse:1310.30105\tvalidation_1-rmse:1750.28605\n",
            "[67]\tvalidation_0-rmse:1300.65395\tvalidation_1-rmse:1752.41765\n",
            "[68]\tvalidation_0-rmse:1291.08409\tvalidation_1-rmse:1754.58392\n",
            "[69]\tvalidation_0-rmse:1281.59143\tvalidation_1-rmse:1756.78342\n",
            "[70]\tvalidation_0-rmse:1272.17515\tvalidation_1-rmse:1759.01503\n",
            "[71]\tvalidation_0-rmse:1262.83484\tvalidation_1-rmse:1761.27723\n",
            "[72]\tvalidation_0-rmse:1253.56962\tvalidation_1-rmse:1763.56948\n",
            "[73]\tvalidation_0-rmse:1244.37947\tvalidation_1-rmse:1765.88985\n",
            "[74]\tvalidation_0-rmse:1235.26320\tvalidation_1-rmse:1768.23782\n",
            "[75]\tvalidation_0-rmse:1226.22078\tvalidation_1-rmse:1770.61197\n",
            "[76]\tvalidation_0-rmse:1217.25130\tvalidation_1-rmse:1773.01148\n",
            "[77]\tvalidation_0-rmse:1208.35448\tvalidation_1-rmse:1775.43493\n",
            "[78]\tvalidation_0-rmse:1199.52936\tvalidation_1-rmse:1777.88143\n",
            "[79]\tvalidation_0-rmse:1190.77558\tvalidation_1-rmse:1780.35015\n",
            "[80]\tvalidation_0-rmse:1182.09307\tvalidation_1-rmse:1782.83996\n",
            "[81]\tvalidation_0-rmse:1173.48065\tvalidation_1-rmse:1785.34986\n"
          ]
        },
        {
          "output_type": "execute_result",
          "data": {
            "text/plain": [
              "XGBRegressor(base_score=None, booster=None, callbacks=None,\n",
              "             colsample_bylevel=None, colsample_bynode=None,\n",
              "             colsample_bytree=None, device=None, early_stopping_rounds=50,\n",
              "             enable_categorical=False, eval_metric=None, feature_types=None,\n",
              "             gamma=None, grow_policy=None, importance_type=None,\n",
              "             interaction_constraints=None, learning_rate=0.01, max_bin=None,\n",
              "             max_cat_threshold=None, max_cat_to_onehot=None,\n",
              "             max_delta_step=None, max_depth=None, max_leaves=None,\n",
              "             min_child_weight=None, missing=nan, monotone_constraints=None,\n",
              "             multi_strategy=None, n_estimators=1000, n_jobs=None,\n",
              "             num_parallel_tree=None, random_state=None, ...)"
            ],
            "text/html": [
              "<style>#sk-container-id-4 {color: black;background-color: white;}#sk-container-id-4 pre{padding: 0;}#sk-container-id-4 div.sk-toggleable {background-color: white;}#sk-container-id-4 label.sk-toggleable__label {cursor: pointer;display: block;width: 100%;margin-bottom: 0;padding: 0.3em;box-sizing: border-box;text-align: center;}#sk-container-id-4 label.sk-toggleable__label-arrow:before {content: \"▸\";float: left;margin-right: 0.25em;color: #696969;}#sk-container-id-4 label.sk-toggleable__label-arrow:hover:before {color: black;}#sk-container-id-4 div.sk-estimator:hover label.sk-toggleable__label-arrow:before {color: black;}#sk-container-id-4 div.sk-toggleable__content {max-height: 0;max-width: 0;overflow: hidden;text-align: left;background-color: #f0f8ff;}#sk-container-id-4 div.sk-toggleable__content pre {margin: 0.2em;color: black;border-radius: 0.25em;background-color: #f0f8ff;}#sk-container-id-4 input.sk-toggleable__control:checked~div.sk-toggleable__content {max-height: 200px;max-width: 100%;overflow: auto;}#sk-container-id-4 input.sk-toggleable__control:checked~label.sk-toggleable__label-arrow:before {content: \"▾\";}#sk-container-id-4 div.sk-estimator input.sk-toggleable__control:checked~label.sk-toggleable__label {background-color: #d4ebff;}#sk-container-id-4 div.sk-label input.sk-toggleable__control:checked~label.sk-toggleable__label {background-color: #d4ebff;}#sk-container-id-4 input.sk-hidden--visually {border: 0;clip: rect(1px 1px 1px 1px);clip: rect(1px, 1px, 1px, 1px);height: 1px;margin: -1px;overflow: hidden;padding: 0;position: absolute;width: 1px;}#sk-container-id-4 div.sk-estimator {font-family: monospace;background-color: #f0f8ff;border: 1px dotted black;border-radius: 0.25em;box-sizing: border-box;margin-bottom: 0.5em;}#sk-container-id-4 div.sk-estimator:hover {background-color: #d4ebff;}#sk-container-id-4 div.sk-parallel-item::after {content: \"\";width: 100%;border-bottom: 1px solid gray;flex-grow: 1;}#sk-container-id-4 div.sk-label:hover label.sk-toggleable__label {background-color: #d4ebff;}#sk-container-id-4 div.sk-serial::before {content: \"\";position: absolute;border-left: 1px solid gray;box-sizing: border-box;top: 0;bottom: 0;left: 50%;z-index: 0;}#sk-container-id-4 div.sk-serial {display: flex;flex-direction: column;align-items: center;background-color: white;padding-right: 0.2em;padding-left: 0.2em;position: relative;}#sk-container-id-4 div.sk-item {position: relative;z-index: 1;}#sk-container-id-4 div.sk-parallel {display: flex;align-items: stretch;justify-content: center;background-color: white;position: relative;}#sk-container-id-4 div.sk-item::before, #sk-container-id-4 div.sk-parallel-item::before {content: \"\";position: absolute;border-left: 1px solid gray;box-sizing: border-box;top: 0;bottom: 0;left: 50%;z-index: -1;}#sk-container-id-4 div.sk-parallel-item {display: flex;flex-direction: column;z-index: 1;position: relative;background-color: white;}#sk-container-id-4 div.sk-parallel-item:first-child::after {align-self: flex-end;width: 50%;}#sk-container-id-4 div.sk-parallel-item:last-child::after {align-self: flex-start;width: 50%;}#sk-container-id-4 div.sk-parallel-item:only-child::after {width: 0;}#sk-container-id-4 div.sk-dashed-wrapped {border: 1px dashed gray;margin: 0 0.4em 0.5em 0.4em;box-sizing: border-box;padding-bottom: 0.4em;background-color: white;}#sk-container-id-4 div.sk-label label {font-family: monospace;font-weight: bold;display: inline-block;line-height: 1.2em;}#sk-container-id-4 div.sk-label-container {text-align: center;}#sk-container-id-4 div.sk-container {/* jupyter's `normalize.less` sets `[hidden] { display: none; }` but bootstrap.min.css set `[hidden] { display: none !important; }` so we also need the `!important` here to be able to override the default hidden behavior on the sphinx rendered scikit-learn.org. See: https://github.com/scikit-learn/scikit-learn/issues/21755 */display: inline-block !important;position: relative;}#sk-container-id-4 div.sk-text-repr-fallback {display: none;}</style><div id=\"sk-container-id-4\" class=\"sk-top-container\"><div class=\"sk-text-repr-fallback\"><pre>XGBRegressor(base_score=None, booster=None, callbacks=None,\n",
              "             colsample_bylevel=None, colsample_bynode=None,\n",
              "             colsample_bytree=None, device=None, early_stopping_rounds=50,\n",
              "             enable_categorical=False, eval_metric=None, feature_types=None,\n",
              "             gamma=None, grow_policy=None, importance_type=None,\n",
              "             interaction_constraints=None, learning_rate=0.01, max_bin=None,\n",
              "             max_cat_threshold=None, max_cat_to_onehot=None,\n",
              "             max_delta_step=None, max_depth=None, max_leaves=None,\n",
              "             min_child_weight=None, missing=nan, monotone_constraints=None,\n",
              "             multi_strategy=None, n_estimators=1000, n_jobs=None,\n",
              "             num_parallel_tree=None, random_state=None, ...)</pre><b>In a Jupyter environment, please rerun this cell to show the HTML representation or trust the notebook. <br />On GitHub, the HTML representation is unable to render, please try loading this page with nbviewer.org.</b></div><div class=\"sk-container\" hidden><div class=\"sk-item\"><div class=\"sk-estimator sk-toggleable\"><input class=\"sk-toggleable__control sk-hidden--visually\" id=\"sk-estimator-id-4\" type=\"checkbox\" checked><label for=\"sk-estimator-id-4\" class=\"sk-toggleable__label sk-toggleable__label-arrow\">XGBRegressor</label><div class=\"sk-toggleable__content\"><pre>XGBRegressor(base_score=None, booster=None, callbacks=None,\n",
              "             colsample_bylevel=None, colsample_bynode=None,\n",
              "             colsample_bytree=None, device=None, early_stopping_rounds=50,\n",
              "             enable_categorical=False, eval_metric=None, feature_types=None,\n",
              "             gamma=None, grow_policy=None, importance_type=None,\n",
              "             interaction_constraints=None, learning_rate=0.01, max_bin=None,\n",
              "             max_cat_threshold=None, max_cat_to_onehot=None,\n",
              "             max_delta_step=None, max_depth=None, max_leaves=None,\n",
              "             min_child_weight=None, missing=nan, monotone_constraints=None,\n",
              "             multi_strategy=None, n_estimators=1000, n_jobs=None,\n",
              "             num_parallel_tree=None, random_state=None, ...)</pre></div></div></div></div></div>"
            ]
          },
          "metadata": {},
          "execution_count": 81
        }
      ]
    },
    {
      "cell_type": "code",
      "source": [
        "test['prediction'] = model.predict(X_test)"
      ],
      "metadata": {
        "id": "2ZlEO5z5Ba9P"
      },
      "execution_count": 82,
      "outputs": []
    },
    {
      "cell_type": "code",
      "source": [
        "df = df.merge(test)"
      ],
      "metadata": {
        "id": "1ijF2DKjBhUr"
      },
      "execution_count": 83,
      "outputs": []
    },
    {
      "cell_type": "code",
      "source": [
        "df.columns"
      ],
      "metadata": {
        "colab": {
          "base_uri": "https://localhost:8080/"
        },
        "id": "AKeN6yqpDbAe",
        "outputId": "25741461-2d7f-404a-839a-fb85c7fd0db3"
      },
      "execution_count": 84,
      "outputs": [
        {
          "output_type": "execute_result",
          "data": {
            "text/plain": [
              "Index(['Peak_Demand', 'Temperature', 'month', 'year', 'prediction'], dtype='object')"
            ]
          },
          "metadata": {},
          "execution_count": 84
        }
      ]
    },
    {
      "cell_type": "code",
      "source": [
        "ax = df[['Peak_Demand']].plot(figsize = (15,5))\n",
        "df['prediction'].plot(ax = ax, style = '--')\n",
        "plt.legend(['Truth Data', 'Predictions'])\n",
        "plt.show()"
      ],
      "metadata": {
        "colab": {
          "base_uri": "https://localhost:8080/",
          "height": 445
        },
        "id": "oJ-pwy6XBnTH",
        "outputId": "d2650d6e-ad00-4041-cbd4-73fe79ee57d5"
      },
      "execution_count": 85,
      "outputs": [
        {
          "output_type": "display_data",
          "data": {
            "text/plain": [
              "<Figure size 1500x500 with 1 Axes>"
            ],
            "image/png": "[encoded data removed]"
          },
          "metadata": {}
        }
      ]
    },
    {
      "cell_type": "code",
      "source": [
        "y_pred = model.predict(X_test)"
      ],
      "metadata": {
        "id": "G9to-ct_Fmj_"
      },
      "execution_count": 103,
      "outputs": []
    },
    {
      "cell_type": "code",
      "source": [
        "type(y_pred)"
      ],
      "metadata": {
        "colab": {
          "base_uri": "https://localhost:8080/"
        },
        "id": "NwtJEGkyGPvD",
        "outputId": "d055b182-7ad2-4c6a-85a8-c8b2d57a3d8b"
      },
      "execution_count": 104,
      "outputs": [
        {
          "output_type": "execute_result",
          "data": {
            "text/plain": [
              "numpy.ndarray"
            ]
          },
          "metadata": {},
          "execution_count": 104
        }
      ]
    },
    {
      "cell_type": "code",
      "source": [
        "y_test_array = np.array(y_test)"
      ],
      "metadata": {
        "id": "1Wd6pZchFv7m"
      },
      "execution_count": 105,
      "outputs": []
    },
    {
      "cell_type": "code",
      "source": [
        "type(y_test_array)"
      ],
      "metadata": {
        "colab": {
          "base_uri": "https://localhost:8080/"
        },
        "id": "VJa8y_JDGSlB",
        "outputId": "b8952800-2b88-460b-f0bb-6d2fa35d4451"
      },
      "execution_count": 106,
      "outputs": [
        {
          "output_type": "execute_result",
          "data": {
            "text/plain": [
              "numpy.ndarray"
            ]
          },
          "metadata": {},
          "execution_count": 106
        }
      ]
    },
    {
      "cell_type": "code",
      "source": [],
      "metadata": {
        "colab": {
          "base_uri": "https://localhost:8080/"
        },
        "id": "za2y5lX4spel",
        "outputId": "a44fd76f-a773-4a84-e59a-08432163ff09"
      },
      "execution_count": 108,
      "outputs": [
        {
          "output_type": "execute_result",
          "data": {
            "text/plain": [
              "10"
            ]
          },
          "metadata": {},
          "execution_count": 108
        }
      ]
    },
    {
      "cell_type": "code",
      "source": [
        "from sklearn.metrics import r2_score\n",
        "\n",
        "r2 = r2_score(y_test_array, y_pred)\n",
        "print(f'R-squared: {r2}')"
      ],
      "metadata": {
        "colab": {
          "base_uri": "https://localhost:8080/"
        },
        "id": "ygDhYkkQBuDR",
        "outputId": "48dfaeb3-9f3d-4d44-e955-bdf354e67dd6"
      },
      "execution_count": 72,
      "outputs": [
        {
          "output_type": "stream",
          "name": "stdout",
          "text": [
            "R-squared: -0.17411502515468302\n"
          ]
        }
      ]
    },
    {
      "cell_type": "markdown",
      "source": [
        "### Perform HyperParameter Tuning and calculate r2 score\n"
      ],
      "metadata": {
        "id": "LvwR2R5nG83D"
      }
    },
    {
      "cell_type": "code",
      "source": [
        "import xgboost as xgb\n",
        "from sklearn.model_selection import GridSearchCV, train_test_split\n",
        "from sklearn.metrics import mean_squared_error\n",
        "\n",
        "# Assuming you have X_train, y_train as your training data\n",
        "X_train, X_valid, y_train, y_valid = train_test_split(X, y, test_size=0.2, random_state=42)\n",
        "\n",
        "# Define the hyperparameter grid\n",
        "param_grid = {\n",
        "    'learning_rate': [0.1, 0.01, 0.01, 0.2, 0.3],\n",
        "    'max_depth': [3, 4, 5, 2, 6, 7],\n",
        "    'n_estimators': [50, 100, 200, 500],\n",
        "}\n",
        "\n",
        "# Create XGBoost regressor\n",
        "xgb_model = xgb.XGBRegressor()\n",
        "\n",
        "# Set up GridSearchCV\n",
        "grid_search = GridSearchCV(estimator=xgb_model, param_grid=param_grid, scoring='neg_mean_squared_error', cv=3)\n",
        "\n",
        "# Perform grid search on training data\n",
        "grid_search.fit(X_train, y_train)\n",
        "\n",
        "# Print the best hyperparameters\n",
        "print(\"Best Hyperparameters:\", grid_search.best_params_)\n",
        "\n",
        "# Evaluate the model on the validation set using the best hyperparameters\n",
        "y_pred = grid_search.best_estimator_.predict(X_valid)\n",
        "mse = mean_squared_error(y_valid, y_pred)\n",
        "print(\"Mean Squared Error on Validation Set:\", mse)"
      ],
      "metadata": {
        "colab": {
          "base_uri": "https://localhost:8080/"
        },
        "id": "E6n-dQBO6SQk",
        "outputId": "2eee518b-0dc4-41c0-844d-6361651645e7"
      },
      "execution_count": 87,
      "outputs": [
        {
          "output_type": "stream",
          "name": "stdout",
          "text": [
            "Best Hyperparameters: {'learning_rate': 0.01, 'max_depth': 2, 'n_estimators': 200}\n",
            "Mean Squared Error on Validation Set: 1153297.3089413643\n"
          ]
        }
      ]
    },
    {
      "cell_type": "code",
      "source": [
        "import xgboost as xgb\n",
        "from sklearn.metrics import mean_squared_error\n",
        "model = xgb.XGBRegressor(n_estimators = 1000, early_stopping_rounds = 50, learning_rate = 0.01)\n",
        "model.fit(X_train, y_train,\n",
        "           eval_set=[(X_train, y_train),(X_test, y_test)],\n",
        "           verbose = True)"
      ],
      "metadata": {
        "id": "DTxCs8Lh6Xkq"
      },
      "execution_count": null,
      "outputs": []
    },
    {
      "cell_type": "code",
      "source": [
        "from sklearn.metrics import mean_squared_error, r2_score\n",
        "import numpy as np\n",
        "\n",
        "# # Calculate Root Mean Squared Error (RMSE)\n",
        "# rmse = np.sqrt(mean_squared_error(y_test, y_pred))\n",
        "# print(\"Root Mean Squared Error:\", rmse)\n",
        "\n",
        "# Calculate R-squared\n",
        "r2 = r2_score(y_test_array, y_pred)\n",
        "print(\"R-squared:\", r2)"
      ],
      "metadata": {
        "colab": {
          "base_uri": "https://localhost:8080/"
        },
        "id": "8dNiwR7Es9m_",
        "outputId": "45b6ac3c-0714-4c59-bedc-38f7a1999958"
      },
      "execution_count": 110,
      "outputs": [
        {
          "output_type": "stream",
          "name": "stdout",
          "text": [
            "R-squared: 0.9478548111375416\n"
          ]
        }
      ]
    },
    {
      "cell_type": "markdown",
      "source": [
        "### Draw a sample prediction\n"
      ],
      "metadata": {
        "id": "MWO9gZlHyHnm"
      }
    },
    {
      "cell_type": "code",
      "source": [
        "import pandas as pd\n",
        "import xgboost as xgb\n",
        "\n",
        "# Your input data\n",
        "x = {'month': ['Nov'], 'year': ['24'], 'Temperature': ['20.7']}\n",
        "df = pd.DataFrame.from_dict(x)\n",
        "\n",
        "# Map month abbreviations to numerical values\n",
        "month_mapping = {'Jan': 1, 'Feb': 2, 'Mar': 3, 'Apr': 4, 'May': 5, 'Jun': 6,\n",
        "                 'Jul': 7, 'Aug': 8, 'Sep': 9, 'Oct': 10, 'Nov': 11, 'Dec': 12}\n",
        "\n",
        "df['month'] = df['month'].map(month_mapping)\n",
        "\n",
        "# Convert 'year' to a full year representation (e.g., from '25' to '2025')\n",
        "df['year'] = pd.to_datetime(df['year'], format='%y').dt.year\n",
        "\n",
        "# Convert 'temperature' to numeric\n",
        "df['Temperature'] = pd.to_numeric(df['Temperature'])\n",
        "\n",
        "# Now, df contains numeric features that can be used as input for the model\n",
        "print(df)\n",
        "\n",
        "# Assuming you have your XGBoost model loaded\n",
        "model.predict(df)"
      ],
      "metadata": {
        "colab": {
          "base_uri": "https://localhost:8080/"
        },
        "id": "fv-jC6JovDCN",
        "outputId": "4d812c87-fa87-4f9a-d40f-c366b47f04c1"
      },
      "execution_count": 120,
      "outputs": [
        {
          "output_type": "stream",
          "name": "stdout",
          "text": [
            "   month  year  Temperature\n",
            "0     11  2024         20.7\n"
          ]
        },
        {
          "output_type": "execute_result",
          "data": {
            "text/plain": [
              "array([8148.338], dtype=float32)"
            ]
          },
          "metadata": {},
          "execution_count": 120
        }
      ]
    },
    {
      "cell_type": "markdown",
      "source": [
        "### Save and load model"
      ],
      "metadata": {
        "id": "aL6Pt30ryKXP"
      }
    },
    {
      "cell_type": "code",
      "source": [
        "import pickle"
      ],
      "metadata": {
        "id": "RxRW_dCzMGkw"
      },
      "execution_count": 121,
      "outputs": []
    },
    {
      "cell_type": "code",
      "source": [
        "file = 'xgb_model.pkl'"
      ],
      "metadata": {
        "id": "HFzBbjBKMS2X"
      },
      "execution_count": 122,
      "outputs": []
    },
    {
      "cell_type": "code",
      "source": [
        "pickle.dump(model, open(file, 'wb'))"
      ],
      "metadata": {
        "id": "mi2bKJY1MVNe"
      },
      "execution_count": 123,
      "outputs": []
    },
    {
      "cell_type": "code",
      "source": [
        "load_model = pickle.load(open(file, 'rb'))"
      ],
      "metadata": {
        "id": "sXoSpGvWMfMv"
      },
      "execution_count": 124,
      "outputs": []
    },
    {
      "cell_type": "code",
      "source": [
        "y_prep = load_model.predict(X_test)"
      ],
      "metadata": {
        "id": "kThvMn5sMk7f"
      },
      "execution_count": 125,
      "outputs": []
    },
    {
      "cell_type": "code",
      "source": [
        "model.save_model('model.txt')"
      ],
      "metadata": {
        "colab": {
          "base_uri": "https://localhost:8080/"
        },
        "id": "q6Baz2F0MpjM",
        "outputId": "f3a7a589-f23d-4ffe-f4ea-936da3b7066a"
      },
      "execution_count": 126,
      "outputs": [
        {
          "output_type": "stream",
          "name": "stderr",
          "text": [
            "/usr/local/lib/python3.10/dist-packages/xgboost/core.py:160: UserWarning: [17:16:10] WARNING: /workspace/src/c_api/c_api.cc:1240: Saving into deprecated binary model format, please consider using `json` or `ubj`. Model format will default to JSON in XGBoost 2.2 if not specified.\n",
            "  warnings.warn(smsg, UserWarning)\n"
          ]
        }
      ]
    }
  ]
}